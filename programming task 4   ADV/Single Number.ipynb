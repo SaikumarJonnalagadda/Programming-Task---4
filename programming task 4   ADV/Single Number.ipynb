{
  "nbformat": 4,
  "nbformat_minor": 0,
  "metadata": {
    "colab": {
      "provenance": []
    },
    "kernelspec": {
      "name": "python3",
      "display_name": "Python 3"
    },
    "language_info": {
      "name": "python"
    }
  },
  "cells": [
    {
      "cell_type": "code",
      "execution_count": null,
      "metadata": {
        "id": "hbVJlvtqNEqu"
      },
      "outputs": [],
      "source": [
        "class Solution:\n",
        "    def singleNumber(self, A: List[int]) -> int:\n",
        "        N=len(A)\n",
        "        if N>1:\n",
        "            A.sort()\n",
        "            for i in range(N-1):\n",
        "                if A[i]!=A[i+1] and A[i]!=A[i-1]:\n",
        "                    return A[i]        \n",
        "            else:\n",
        "                if A[-1]!=A[-2]:\n",
        "                    return A[-1]\n",
        "        else:\n",
        "            return A[0]"
      ]
    }
  ]
}