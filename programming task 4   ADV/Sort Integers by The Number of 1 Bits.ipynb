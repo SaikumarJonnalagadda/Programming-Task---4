{
  "nbformat": 4,
  "nbformat_minor": 0,
  "metadata": {
    "colab": {
      "provenance": []
    },
    "kernelspec": {
      "name": "python3",
      "display_name": "Python 3"
    },
    "language_info": {
      "name": "python"
    }
  },
  "cells": [
    {
      "cell_type": "code",
      "execution_count": null,
      "metadata": {
        "id": "hbVJlvtqNEqu"
      },
      "outputs": [],
      "source": [
        "class Solution:\n",
        "    def sortByBits(self, arr: List[int]) -> List[int]:\n",
        "        arr.sort()\n",
        "        i=arr[-1]\n",
        "        s=bin(i).replace(\"0b\",\"\")\n",
        "        s=len(s)\n",
        "        list1 = [[] for i in range(s)]\n",
        "        for i in arr:\n",
        "            s=bin(i).replace(\"0b\",\"\")\n",
        "            count1=s.count(\"1\")\n",
        "            list1[count1].append(i)\n",
        "        ans=[]\n",
        "        for i in list1:\n",
        "            if len(i)>0:\n",
        "                ans=ans+i\n",
        "        return (ans)\n"
      ]
    }
  ]
}