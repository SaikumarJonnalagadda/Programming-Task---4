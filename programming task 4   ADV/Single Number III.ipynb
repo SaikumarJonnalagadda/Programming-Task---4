{
  "nbformat": 4,
  "nbformat_minor": 0,
  "metadata": {
    "colab": {
      "provenance": []
    },
    "kernelspec": {
      "name": "python3",
      "display_name": "Python 3"
    },
    "language_info": {
      "name": "python"
    }
  },
  "cells": [
    {
      "cell_type": "code",
      "execution_count": null,
      "metadata": {
        "id": "hbVJlvtqNEqu"
      },
      "outputs": [],
      "source": [
        "class Solution:\n",
        "    def singleNumber(self, nums: List[int]) -> List[int]:\n",
        "        d={}\n",
        "        for i in nums:\n",
        "            if i not in d:\n",
        "                d[i]=1\n",
        "            else:\n",
        "                d[i]+=1\n",
        "        ans=[]\n",
        "        for i in d:\n",
        "            if d[i]==1:\n",
        "                ans.append(i)\n",
        "        return ans"
      ]
    }
  ]
}